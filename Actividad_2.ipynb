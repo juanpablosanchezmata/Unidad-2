{
  "nbformat": 4,
  "nbformat_minor": 0,
  "metadata": {
    "colab": {
      "provenance": [],
      "authorship_tag": "ABX9TyNYWHYk3A8KPDqOm1Bx1LVR",
      "include_colab_link": true
    },
    "kernelspec": {
      "name": "python3",
      "display_name": "Python 3"
    },
    "language_info": {
      "name": "python"
    }
  },
  "cells": [
    {
      "cell_type": "markdown",
      "metadata": {
        "id": "view-in-github",
        "colab_type": "text"
      },
      "source": [
        "<a href=\"https://colab.research.google.com/github/juanpablosanchezmata/Unidad-2/blob/main/Actividad_2.ipynb\" target=\"_parent\"><img src=\"https://colab.research.google.com/assets/colab-badge.svg\" alt=\"Open In Colab\"/></a>"
      ]
    },
    {
      "cell_type": "code",
      "execution_count": 1,
      "metadata": {
        "colab": {
          "base_uri": "https://localhost:8080/"
        },
        "id": "wCsDOzfj4dkv",
        "outputId": "612e5f41-610d-4938-840f-178f84425c93"
      },
      "outputs": [
        {
          "output_type": "stream",
          "name": "stdout",
          "text": [
            "A\n",
            "E\n",
            "I\n",
            "O\n"
          ]
        }
      ],
      "source": [
        "Valores = {'A' : 4, 'E' : 3, 'I' : 1, 'O' : 0}\n",
        "for k in Valores:\n",
        "  print (k)"
      ]
    },
    {
      "cell_type": "code",
      "source": [
        "Valores = {'A' : 4, 'E' : 3, 'I' : 1, 'O' : 0}\n",
        "for V in Valores.values():\n",
        "  print (V)"
      ],
      "metadata": {
        "colab": {
          "base_uri": "https://localhost:8080/"
        },
        "id": "cECsRDrhSN_m",
        "outputId": "8a391b3d-18f0-4e0b-e29e-c82af197d02d"
      },
      "execution_count": 3,
      "outputs": [
        {
          "output_type": "stream",
          "name": "stdout",
          "text": [
            "4\n",
            "3\n",
            "1\n",
            "0\n"
          ]
        }
      ]
    },
    {
      "cell_type": "code",
      "source": [
        "Lista = [(1,2), (9,8)]\n",
        "for a,b in Lista:\n",
        "  print(\"a:\", a, \"b:\",b)"
      ],
      "metadata": {
        "colab": {
          "base_uri": "https://localhost:8080/"
        },
        "id": "vapGn5rMSOZP",
        "outputId": "ed7ef50a-fb93-4d1e-b537-7a7249549db8"
      },
      "execution_count": 4,
      "outputs": [
        {
          "output_type": "stream",
          "name": "stdout",
          "text": [
            "a: 1 b: 2\n",
            "a: 9 b: 8\n"
          ]
        }
      ]
    }
  ]
}