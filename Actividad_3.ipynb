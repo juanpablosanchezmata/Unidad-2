{
  "nbformat": 4,
  "nbformat_minor": 0,
  "metadata": {
    "colab": {
      "provenance": [],
      "authorship_tag": "ABX9TyPJOJBwijzfdnP5/dq4ONbB",
      "include_colab_link": true
    },
    "kernelspec": {
      "name": "python3",
      "display_name": "Python 3"
    },
    "language_info": {
      "name": "python"
    }
  },
  "cells": [
    {
      "cell_type": "markdown",
      "metadata": {
        "id": "view-in-github",
        "colab_type": "text"
      },
      "source": [
        "<a href=\"https://colab.research.google.com/github/juanpablosanchezmata/Unidad-2/blob/main/Actividad_3.ipynb\" target=\"_parent\"><img src=\"https://colab.research.google.com/assets/colab-badge.svg\" alt=\"Open In Colab\"/></a>"
      ]
    },
    {
      "cell_type": "code",
      "execution_count": 4,
      "metadata": {
        "colab": {
          "base_uri": "https://localhost:8080/"
        },
        "id": "tgAu1-JIVAUk",
        "outputId": "343dfb72-fac4-413b-f078-5380d0d063fd"
      },
      "outputs": [
        {
          "output_type": "stream",
          "name": "stdout",
          "text": [
            "saliste de la lista\n"
          ]
        }
      ],
      "source": [
        "factura = [\"pan\",\"carne\",100,1234]\n",
        "##print(factura[-3])\n",
        "try:\n",
        "  print(factura[-5])\n",
        "except:\n",
        "  print(\"saliste de la lista\")"
      ]
    },
    {
      "cell_type": "code",
      "source": [
        "numero = [2.1,2.5,3.6,4,5]\n",
        "print(numero)\n",
        "numero.append(6)\n",
        "print(numero)"
      ],
      "metadata": {
        "colab": {
          "base_uri": "https://localhost:8080/"
        },
        "id": "SnTHThEoWVh_",
        "outputId": "b537b3ec-e914-4043-d9b5-e8fb0e2f2a85"
      },
      "execution_count": 6,
      "outputs": [
        {
          "output_type": "stream",
          "name": "stdout",
          "text": [
            "[2.1, 2.5, 3.6, 4, 5]\n",
            "[2.1, 2.5, 3.6, 4, 5, 6]\n"
          ]
        }
      ]
    },
    {
      "cell_type": "code",
      "source": [
        "numero = [2.1,2.5,3.6,4,5,6,6]\n",
        "print(\"6 aparece \", numero.count(6), \"vez\")"
      ],
      "metadata": {
        "colab": {
          "base_uri": "https://localhost:8080/"
        },
        "id": "qB7ZYsy4WVxt",
        "outputId": "24a8bb44-1073-47e8-8c07-534a3065b19d"
      },
      "execution_count": 8,
      "outputs": [
        {
          "output_type": "stream",
          "name": "stdout",
          "text": [
            "6 aparece  2 vez\n"
          ]
        }
      ]
    },
    {
      "cell_type": "code",
      "source": [
        "numero = [1,2,3]\n",
        "numero.extend([4])\n",
        "print(numero)\n",
        "numero.extend(range(5,10))\n",
        "print(numero)"
      ],
      "metadata": {
        "colab": {
          "base_uri": "https://localhost:8080/"
        },
        "id": "PCdXacOGWXSV",
        "outputId": "2e66c910-469e-49f0-b76b-3699046a99dc"
      },
      "execution_count": 9,
      "outputs": [
        {
          "output_type": "stream",
          "name": "stdout",
          "text": [
            "[1, 2, 3, 4]\n",
            "[1, 2, 3, 4, 5, 6, 7, 8, 9]\n"
          ]
        }
      ]
    },
    {
      "cell_type": "code",
      "source": [
        "numero = [2.1,2.5,3.6,4,5,6,4]\n",
        "numero.insert(2,3.7)\n",
        "print(numero)"
      ],
      "metadata": {
        "colab": {
          "base_uri": "https://localhost:8080/"
        },
        "id": "ys9in7xOXn5m",
        "outputId": "b77afcab-01ed-4fd9-ff05-c875425c05d6"
      },
      "execution_count": 10,
      "outputs": [
        {
          "output_type": "stream",
          "name": "stdout",
          "text": [
            "[2.1, 2.5, 3.7, 3.6, 4, 5, 6, 4]\n"
          ]
        }
      ]
    },
    {
      "cell_type": "code",
      "source": [
        "numero = [2.1,2.5,3.6,4,5,6,4]\n",
        "print(numero.index(2.5))"
      ],
      "metadata": {
        "colab": {
          "base_uri": "https://localhost:8080/"
        },
        "id": "l91eCwbZX0zi",
        "outputId": "298b85b6-2f87-459d-a1f6-ccb215662d15"
      },
      "execution_count": 16,
      "outputs": [
        {
          "output_type": "stream",
          "name": "stdout",
          "text": [
            "1\n"
          ]
        }
      ]
    }
  ]
}