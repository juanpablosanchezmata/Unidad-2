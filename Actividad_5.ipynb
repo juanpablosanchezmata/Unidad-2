{
  "nbformat": 4,
  "nbformat_minor": 0,
  "metadata": {
    "colab": {
      "provenance": [],
      "authorship_tag": "ABX9TyPquYpTEYYYWr9bfTu5+G0h",
      "include_colab_link": true
    },
    "kernelspec": {
      "name": "python3",
      "display_name": "Python 3"
    },
    "language_info": {
      "name": "python"
    }
  },
  "cells": [
    {
      "cell_type": "markdown",
      "metadata": {
        "id": "view-in-github",
        "colab_type": "text"
      },
      "source": [
        "<a href=\"https://colab.research.google.com/github/juanpablosanchezmata/Unidad-2/blob/main/Actividad_5.ipynb\" target=\"_parent\"><img src=\"https://colab.research.google.com/assets/colab-badge.svg\" alt=\"Open In Colab\"/></a>"
      ]
    },
    {
      "cell_type": "code",
      "execution_count": 5,
      "metadata": {
        "colab": {
          "base_uri": "https://localhost:8080/"
        },
        "id": "WQP9QD-ZY5HQ",
        "outputId": "33b0b5b3-0908-4bae-bbf6-0e4ee07899c1"
      },
      "outputs": [
        {
          "output_type": "stream",
          "name": "stdout",
          "text": [
            "['Ya', 'casi', 'es', 'año', 'nuevo']\n",
            "['Ya', 'casi', 'salimos', 'de', 'vacaciones']\n",
            "las palabras iguales son:  Ya\n",
            "las palabras iguales son:  casi\n"
          ]
        }
      ],
      "source": [
        "texto = \"Ya casi es año nuevo\"\n",
        "x = texto.split()\n",
        "print(x)\n",
        "texto2 = \"Ya casi salimos de vacaciones\"\n",
        "x2 = texto2.split()\n",
        "print(x2)\n",
        "if texto == texto2:\n",
        "  print(\"las dos frases son iguales\")\n",
        "if x[0]==x2[0] or x[0]==x2[1] or x[0]==x2[2]:\n",
        "  print(\"las palabras iguales son: \",x[0])\n",
        "if x[1]==x2[0] or x[1]==x2[1] or x[1]==x2[2]:\n",
        "  print(\"las palabras iguales son: \",x[1])\n",
        "if x[2]==x2[0] or x[2]==x2[1] or x[2]==x2[2]:\n",
        "  print(\"las palabras iguales son: \",x[1])\n",
        "if x[3]==x2[0] or x[3]==x2[1] or x[3]==x2[2]:\n",
        "  print(\"las palabras iguales son: \",x[1])\n",
        "if x[4]==x2[0] or x[4]==x2[1] or x[4]==x2[2]:\n",
        "  print(\"las palabras iguales son: \",x[1])"
      ]
    }
  ]
}