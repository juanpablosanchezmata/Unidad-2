{
  "nbformat": 4,
  "nbformat_minor": 0,
  "metadata": {
    "colab": {
      "provenance": [],
      "authorship_tag": "ABX9TyO21/pFnpAqiRpltG9rV4uT",
      "include_colab_link": true
    },
    "kernelspec": {
      "name": "python3",
      "display_name": "Python 3"
    },
    "language_info": {
      "name": "python"
    }
  },
  "cells": [
    {
      "cell_type": "markdown",
      "metadata": {
        "id": "view-in-github",
        "colab_type": "text"
      },
      "source": [
        "<a href=\"https://colab.research.google.com/github/juanpablosanchezmata/Unidad-2/blob/main/Presentacion.ipynb\" target=\"_parent\"><img src=\"https://colab.research.google.com/assets/colab-badge.svg\" alt=\"Open In Colab\"/></a>"
      ]
    },
    {
      "cell_type": "markdown",
      "source": [
        "#Presentacion\n",
        "\n",
        "##El uso de print en python\n"
      ],
      "metadata": {
        "id": "DIepT59IlE70"
      }
    },
    {
      "cell_type": "markdown",
      "source": [
        "Print es una funcion que permite la salida en pantalla de lo que nosotros queremos, puede ser desde el valor de una variable o el valor de varia variables a la vez escribiéndolas entre comas como en el siguiente ejemplo:"
      ],
      "metadata": {
        "id": "mzrSgxcOqWZ5"
      }
    },
    {
      "cell_type": "code",
      "source": [
        "A = 4\n",
        "B = 'PABLO'\n",
        "A\n",
        "A, B"
      ],
      "metadata": {
        "colab": {
          "base_uri": "https://localhost:8080/"
        },
        "id": "q_4wKze4rNvX",
        "outputId": "54f01578-3bb0-4423-c413-3fc940bdb478"
      },
      "execution_count": null,
      "outputs": [
        {
          "output_type": "execute_result",
          "data": {
            "text/plain": [
              "(4, 'PABLO')"
            ]
          },
          "metadata": {},
          "execution_count": 1
        }
      ]
    },
    {
      "cell_type": "markdown",
      "source": [
        "###La función print nos permite incluir variables o expresiones como argumentos, lo que nos permite combinar texto y variables por ejemplo:"
      ],
      "metadata": {
        "id": "KZW3jvihmE1H"
      }
    },
    {
      "cell_type": "code",
      "execution_count": null,
      "metadata": {
        "colab": {
          "base_uri": "https://localhost:8080/"
        },
        "id": "XrN1_XMjlD2i",
        "outputId": "1dbb9b81-4b1f-43e7-ad84-a20127a7afc3"
      },
      "outputs": [
        {
          "output_type": "stream",
          "name": "stdout",
          "text": [
            "Me llamo Pablo Y tengo  19 años\n"
          ]
        }
      ],
      "source": [
        "Nombre = 'Pablo'\n",
        "Edad = 19\n",
        "print ('Me llamo', Nombre , 'Y tengo ', Edad, 'años')"
      ]
    }
  ]
}